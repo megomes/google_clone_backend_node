{
 "cells": [
  {
   "cell_type": "markdown",
   "id": "274fa257",
   "metadata": {},
   "source": [
    "## Requirements"
   ]
  },
  {
   "cell_type": "code",
   "execution_count": null,
   "id": "44710dbc",
   "metadata": {},
   "outputs": [],
   "source": [
    "#!pip install elasticsearch==7.13\n",
    "#!pip install configparser"
   ]
  },
  {
   "cell_type": "code",
   "execution_count": 59,
   "id": "d2623cf2",
   "metadata": {},
   "outputs": [],
   "source": [
    "from configparser import ConfigParser\n",
    "from elasticsearch import Elasticsearch\n",
    "import re\n",
    "\n",
    "from random import randint"
   ]
  },
  {
   "cell_type": "markdown",
   "id": "c53f6a32",
   "metadata": {},
   "source": [
    "### Secrets"
   ]
  },
  {
   "cell_type": "code",
   "execution_count": 8,
   "id": "ce4155b4",
   "metadata": {},
   "outputs": [],
   "source": [
    "parser = ConfigParser()\n",
    "_ = parser.read('../notebook.cfg')\n",
    "kibana_url = parser.get('bonsai', 'kibana_url')"
   ]
  },
  {
   "cell_type": "markdown",
   "id": "9509c7c7",
   "metadata": {},
   "source": [
    "### ElasticSearch Create\n",
    "Docs: https://elasticsearch-py.readthedocs.io/en/v7.13.0/"
   ]
  },
  {
   "cell_type": "code",
   "execution_count": 16,
   "id": "9da9de2e",
   "metadata": {},
   "outputs": [],
   "source": [
    "auth = re.search('https\\:\\/\\/(.*)\\@', kibana_url).group(1).split(':')\n",
    "host = kibana_url.replace('https://%s:%s@' % (auth[0], auth[1]), '')\n",
    "\n",
    "# optional port\n",
    "match = re.search('(:\\d+)', host)\n",
    "if match:\n",
    "    p = match.group(0)\n",
    "    host = host.replace(p, '')\n",
    "    port = int(p.split(':')[1])\n",
    "else:\n",
    "    port = 443\n",
    "\n",
    "# Connect to cluster over SSL using auth for best security:\n",
    "es_header = [{\n",
    "    'host': host,\n",
    "    'port': port,\n",
    "    'use_ssl': True,\n",
    "    'http_auth': (auth[0],auth[1])\n",
    "}]"
   ]
  },
  {
   "cell_type": "code",
   "execution_count": 17,
   "id": "9251c062",
   "metadata": {},
   "outputs": [],
   "source": [
    "es = Elasticsearch(es_header)"
   ]
  },
  {
   "cell_type": "code",
   "execution_count": 18,
   "id": "c67d0754",
   "metadata": {},
   "outputs": [
    {
     "data": {
      "text/plain": [
       "True"
      ]
     },
     "execution_count": 18,
     "metadata": {},
     "output_type": "execute_result"
    }
   ],
   "source": [
    "es.ping()"
   ]
  },
  {
   "cell_type": "code",
   "execution_count": 20,
   "id": "a67084bb",
   "metadata": {},
   "outputs": [
    {
     "data": {
      "text/plain": [
       "{'_shards': {'total': 2, 'successful': 2, 'failed': 0}}"
      ]
     },
     "execution_count": 20,
     "metadata": {},
     "output_type": "execute_result"
    }
   ],
   "source": [
    "es.indices.refresh(index=\"hello_world\")"
   ]
  },
  {
   "cell_type": "code",
   "execution_count": 70,
   "id": "e5767836",
   "metadata": {},
   "outputs": [
    {
     "name": "stdout",
     "output_type": "stream",
     "text": [
      "Got 2 Hits:\n",
      "{'name': 'Matheus Ervilha', 'age': '29'}\n",
      "{'name': 'Matheus Ervilha 840', 'age': '30'}\n"
     ]
    }
   ],
   "source": [
    "getBody = {\n",
    "    \"query\": {\n",
    "        \"match_all\": {}\n",
    "    }\n",
    "}\n",
    "\n",
    "res = es.search(index=\"hello_world\", body=getBody)\n",
    "print(\"Got %d Hits:\" % res['hits']['total']['value'])\n",
    "for hit in res['hits']['hits']:\n",
    "    print(hit[\"_source\"])"
   ]
  },
  {
   "cell_type": "code",
   "execution_count": 69,
   "id": "2cee2ade",
   "metadata": {},
   "outputs": [
    {
     "name": "stdout",
     "output_type": "stream",
     "text": [
      "created\n"
     ]
    }
   ],
   "source": [
    "newDoc = {\n",
    "    'name': 'Matheus Ervilha ' + str(randint(0, 10000)),\n",
    "    'age': str(randint(0, 100)),\n",
    "}\n",
    "res = es.index(index=\"hello_world\", id=1, body=newDoc)\n",
    "print(res['result'])"
   ]
  },
  {
   "cell_type": "code",
   "execution_count": null,
   "id": "c0b940a0",
   "metadata": {},
   "outputs": [],
   "source": []
  }
 ],
 "metadata": {
  "kernelspec": {
   "display_name": "Python 3 (ipykernel)",
   "language": "python",
   "name": "python3"
  },
  "language_info": {
   "codemirror_mode": {
    "name": "ipython",
    "version": 3
   },
   "file_extension": ".py",
   "mimetype": "text/x-python",
   "name": "python",
   "nbconvert_exporter": "python",
   "pygments_lexer": "ipython3",
   "version": "3.9.12"
  }
 },
 "nbformat": 4,
 "nbformat_minor": 5
}

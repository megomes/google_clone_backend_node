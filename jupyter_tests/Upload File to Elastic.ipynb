{
 "cells": [
  {
   "cell_type": "code",
   "execution_count": 33,
   "id": "37950bf4",
   "metadata": {},
   "outputs": [],
   "source": [
    "from configparser import ConfigParser\n",
    "from elasticsearch import Elasticsearch\n",
    "import re\n",
    "import os\n",
    "from dotenv import load_dotenv\n",
    "import csv\n",
    "from elasticsearch.helpers import streaming_bulk\n",
    "from tqdm.notebook import tqdm\n",
    "import pandas as pd\n"
   ]
  },
  {
   "cell_type": "code",
   "execution_count": 10,
   "id": "7c9bf9e7",
   "metadata": {},
   "outputs": [
    {
     "data": {
      "text/plain": [
       "True"
      ]
     },
     "execution_count": 10,
     "metadata": {},
     "output_type": "execute_result"
    }
   ],
   "source": [
    "load_dotenv()\n",
    "\n",
    "kibana_url = os.getenv('KIBANA_URL')\n",
    "\n",
    "auth = re.search('https\\:\\/\\/(.*)\\@', kibana_url).group(1).split(':')\n",
    "host = kibana_url.replace('https://%s:%s@' % (auth[0], auth[1]), '')\n",
    "\n",
    "match = re.search('(:\\d+)', host)\n",
    "if match:\n",
    "    p = match.group(0)\n",
    "    host = host.replace(p, '')\n",
    "    port = int(p.split(':')[1])\n",
    "else:\n",
    "    port = 443\n",
    "\n",
    "es_header = [{\n",
    "    'host': host,\n",
    "    'port': port,\n",
    "    'use_ssl': True,\n",
    "    'http_auth': (auth[0],auth[1])\n",
    "}]\n",
    "\n",
    "es = Elasticsearch(es_header)\n",
    "es.ping()"
   ]
  },
  {
   "cell_type": "markdown",
   "id": "a0a647e7",
   "metadata": {},
   "source": [
    "Bulk add:\n",
    "https://github.com/elastic/elasticsearch-py/blob/main/examples/bulk-ingest/bulk-ingest.py"
   ]
  },
  {
   "cell_type": "code",
   "execution_count": 34,
   "id": "366e51a8",
   "metadata": {},
   "outputs": [],
   "source": [
    "# Open file\n",
    "def generate_actions():\n",
    "    with open('../Data/wiki.csv', encoding=\"utf-8\") as file_obj:\n",
    "\n",
    "        # Create reader object by passing the file \n",
    "        # object to reader method\n",
    "        reader_obj = csv.reader(file_obj)\n",
    "\n",
    "        # Iterate over each row in the csv \n",
    "        # file using reader object\n",
    "        for row in reader_obj:\n",
    "            doc = {\n",
    "                'title': row[1],\n",
    "                'href': row[0]\n",
    "            }\n",
    "            yield doc"
   ]
  },
  {
   "cell_type": "code",
   "execution_count": 36,
   "id": "27eb5dfd",
   "metadata": {},
   "outputs": [
    {
     "data": {
      "application/vnd.jupyter.widget-view+json": {
       "model_id": "a0050640d6834d48af1b81443a87e5b6",
       "version_major": 2,
       "version_minor": 0
      },
      "text/plain": [
       "  0%|          | 0/10704 [00:00<?, ?docs/s]"
      ]
     },
     "metadata": {},
     "output_type": "display_data"
    },
    {
     "name": "stderr",
     "output_type": "stream",
     "text": [
      "100%|█████████████████████████████████████████████████████████████████████████▉| 10703/10704 [09:05<00:00, 19.61docs/s]\n"
     ]
    },
    {
     "name": "stdout",
     "output_type": "stream",
     "text": [
      "Indexed 10703/10704 documents\n"
     ]
    }
   ],
   "source": [
    "# read CSV file\n",
    "number_of_docs = 10704\n",
    "\n",
    "progress = tqdm(unit=\"docs\", total=number_of_docs)\n",
    "successes = 0\n",
    "for ok, action in streaming_bulk(\n",
    "    client=es, index=\"wiki\", actions=generate_actions(),\n",
    "):\n",
    "    progress.update(1)\n",
    "    successes += ok\n",
    "    \n",
    "print(\"Indexed %d/%d documents\" % (successes, number_of_docs))"
   ]
  },
  {
   "cell_type": "code",
   "execution_count": null,
   "id": "12216ea1",
   "metadata": {},
   "outputs": [],
   "source": []
  }
 ],
 "metadata": {
  "kernelspec": {
   "display_name": "Python 3 (ipykernel)",
   "language": "python",
   "name": "python3"
  },
  "language_info": {
   "codemirror_mode": {
    "name": "ipython",
    "version": 3
   },
   "file_extension": ".py",
   "mimetype": "text/x-python",
   "name": "python",
   "nbconvert_exporter": "python",
   "pygments_lexer": "ipython3",
   "version": "3.9.12"
  }
 },
 "nbformat": 4,
 "nbformat_minor": 5
}
